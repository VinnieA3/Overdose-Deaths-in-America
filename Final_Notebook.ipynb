{
 "cells": [
  {
   "cell_type": "markdown",
   "metadata": {},
   "source": [
    "# Over Dose Prevention"
   ]
  },
  {
   "cell_type": "markdown",
   "metadata": {},
   "source": [
    "## Overview"
   ]
  },
  {
   "cell_type": "markdown",
   "metadata": {},
   "source": [
    "## Business Probelm"
   ]
  },
  {
   "cell_type": "code",
   "execution_count": 1,
   "metadata": {},
   "outputs": [],
   "source": [
    "import pandas as pd\n",
    "import numpy as np\n",
    "import datetime as dt"
   ]
  },
  {
   "cell_type": "code",
   "execution_count": 2,
   "metadata": {},
   "outputs": [
    {
     "data": {
      "text/html": [
       "<div>\n",
       "<style scoped>\n",
       "    .dataframe tbody tr th:only-of-type {\n",
       "        vertical-align: middle;\n",
       "    }\n",
       "\n",
       "    .dataframe tbody tr th {\n",
       "        vertical-align: top;\n",
       "    }\n",
       "\n",
       "    .dataframe thead th {\n",
       "        text-align: right;\n",
       "    }\n",
       "</style>\n",
       "<table border=\"1\" class=\"dataframe\">\n",
       "  <thead>\n",
       "    <tr style=\"text-align: right;\">\n",
       "      <th></th>\n",
       "      <th>State</th>\n",
       "      <th>State Name</th>\n",
       "      <th>Year</th>\n",
       "      <th>Month</th>\n",
       "      <th>Indicator</th>\n",
       "      <th>Data Value</th>\n",
       "      <th>Predicted Value</th>\n",
       "      <th>Percent Complete</th>\n",
       "      <th>Percent Pending Investigation</th>\n",
       "      <th>Footnote</th>\n",
       "    </tr>\n",
       "  </thead>\n",
       "  <tbody>\n",
       "    <tr>\n",
       "      <th>0</th>\n",
       "      <td>AK</td>\n",
       "      <td>AK</td>\n",
       "      <td>2015</td>\n",
       "      <td>January</td>\n",
       "      <td>Number of Deaths</td>\n",
       "      <td>4034.0</td>\n",
       "      <td>NaN</td>\n",
       "      <td>100</td>\n",
       "      <td>0.0</td>\n",
       "      <td>NaN</td>\n",
       "    </tr>\n",
       "    <tr>\n",
       "      <th>1</th>\n",
       "      <td>AK</td>\n",
       "      <td>AK</td>\n",
       "      <td>2015</td>\n",
       "      <td>February</td>\n",
       "      <td>Number of Deaths</td>\n",
       "      <td>4084.0</td>\n",
       "      <td>NaN</td>\n",
       "      <td>100</td>\n",
       "      <td>0.0</td>\n",
       "      <td>NaN</td>\n",
       "    </tr>\n",
       "    <tr>\n",
       "      <th>2</th>\n",
       "      <td>AK</td>\n",
       "      <td>AK</td>\n",
       "      <td>2015</td>\n",
       "      <td>March</td>\n",
       "      <td>Number of Deaths</td>\n",
       "      <td>4101.0</td>\n",
       "      <td>NaN</td>\n",
       "      <td>100</td>\n",
       "      <td>0.0</td>\n",
       "      <td>NaN</td>\n",
       "    </tr>\n",
       "    <tr>\n",
       "      <th>3</th>\n",
       "      <td>AK</td>\n",
       "      <td>AK</td>\n",
       "      <td>2015</td>\n",
       "      <td>April</td>\n",
       "      <td>Number of Deaths</td>\n",
       "      <td>4133.0</td>\n",
       "      <td>NaN</td>\n",
       "      <td>100</td>\n",
       "      <td>0.0</td>\n",
       "      <td>NaN</td>\n",
       "    </tr>\n",
       "    <tr>\n",
       "      <th>4</th>\n",
       "      <td>AK</td>\n",
       "      <td>AK</td>\n",
       "      <td>2015</td>\n",
       "      <td>May</td>\n",
       "      <td>Number of Deaths</td>\n",
       "      <td>4196.0</td>\n",
       "      <td>NaN</td>\n",
       "      <td>100</td>\n",
       "      <td>0.0</td>\n",
       "      <td>NaN</td>\n",
       "    </tr>\n",
       "  </tbody>\n",
       "</table>\n",
       "</div>"
      ],
      "text/plain": [
       "  State State Name  Year     Month         Indicator  Data Value  \\\n",
       "0    AK         AK  2015   January  Number of Deaths      4034.0   \n",
       "1    AK         AK  2015  February  Number of Deaths      4084.0   \n",
       "2    AK         AK  2015     March  Number of Deaths      4101.0   \n",
       "3    AK         AK  2015     April  Number of Deaths      4133.0   \n",
       "4    AK         AK  2015       May  Number of Deaths      4196.0   \n",
       "\n",
       "   Predicted Value  Percent Complete  Percent Pending Investigation Footnote  \n",
       "0              NaN               100                            0.0      NaN  \n",
       "1              NaN               100                            0.0      NaN  \n",
       "2              NaN               100                            0.0      NaN  \n",
       "3              NaN               100                            0.0      NaN  \n",
       "4              NaN               100                            0.0      NaN  "
      ]
     },
     "execution_count": 2,
     "metadata": {},
     "output_type": "execute_result"
    }
   ],
   "source": [
    "od_data = pd.read_csv('Data/OD_Deaths.csv')\n",
    "od_data.head()"
   ]
  },
  {
   "cell_type": "code",
   "execution_count": null,
   "metadata": {},
   "outputs": [],
   "source": []
  },
  {
   "cell_type": "code",
   "execution_count": 3,
   "metadata": {
    "scrolled": true
   },
   "outputs": [
    {
     "name": "stdout",
     "output_type": "stream",
     "text": [
      "<class 'pandas.core.frame.DataFrame'>\n",
      "RangeIndex: 10320 entries, 0 to 10319\n",
      "Data columns (total 10 columns):\n",
      " #   Column                         Non-Null Count  Dtype  \n",
      "---  ------                         --------------  -----  \n",
      " 0   State                          10320 non-null  object \n",
      " 1   State Name                     10320 non-null  object \n",
      " 2   Year                           10320 non-null  int64  \n",
      " 3   Month                          10320 non-null  object \n",
      " 4   Indicator                      10320 non-null  object \n",
      " 5   Data Value                     10320 non-null  float64\n",
      " 6   Predicted Value                7440 non-null   float64\n",
      " 7   Percent Complete               10320 non-null  int64  \n",
      " 8   Percent Pending Investigation  10320 non-null  float64\n",
      " 9   Footnote                       4128 non-null   object \n",
      "dtypes: float64(3), int64(2), object(5)\n",
      "memory usage: 806.4+ KB\n"
     ]
    }
   ],
   "source": [
    "od_data.info()"
   ]
  },
  {
   "cell_type": "code",
   "execution_count": 4,
   "metadata": {
    "scrolled": false
   },
   "outputs": [
    {
     "data": {
      "text/plain": [
       "Number of Deaths                                 2120\n",
       "Number of Drug Overdose Deaths                   2120\n",
       "Methadone (T40.3)                                 760\n",
       "Cocaine (T40.5)                                   760\n",
       "Natural & semi-synthetic opioids (T40.2)          760\n",
       "Opioids (T40.0-T40.4,T40.6)                       760\n",
       "Percent with drugs specified                      760\n",
       "Synthetic opioids, excl. methadone (T40.4)        760\n",
       "Heroin (T40.1)                                    760\n",
       "Psychostimulants with abuse potential (T43.6)     760\n",
       "Name: Indicator, dtype: int64"
      ]
     },
     "execution_count": 4,
     "metadata": {},
     "output_type": "execute_result"
    }
   ],
   "source": [
    "od_data['Indicator'].value_counts()"
   ]
  },
  {
   "cell_type": "code",
   "execution_count": 5,
   "metadata": {},
   "outputs": [
    {
     "data": {
      "text/plain": [
       "Indicator                       Predicted Value\n",
       "Methadone (T40.3)               32.0               20\n",
       "                                33.0               19\n",
       "                                39.0               19\n",
       "                                31.0               16\n",
       "Cocaine (T40.5)                 54.0               16\n",
       "                                                   ..\n",
       "Number of Drug Overdose Deaths  2396.0              1\n",
       "                                2394.0              1\n",
       "                                2386.0              1\n",
       "                                2379.0              1\n",
       "                                1069.0              1\n",
       "Length: 4045, dtype: int64"
      ]
     },
     "execution_count": 5,
     "metadata": {},
     "output_type": "execute_result"
    }
   ],
   "source": [
    "od_data[['Indicator', 'Predicted Value']].value_counts()"
   ]
  },
  {
   "cell_type": "code",
   "execution_count": 6,
   "metadata": {
    "scrolled": true
   },
   "outputs": [
    {
     "data": {
      "text/plain": [
       "32.0       47\n",
       "39.0       40\n",
       "49.0       39\n",
       "33.0       38\n",
       "40.0       37\n",
       "           ..\n",
       "2714.0      1\n",
       "2087.0      1\n",
       "72816.0     1\n",
       "998.0       1\n",
       "2823.0      1\n",
       "Name: Predicted Value, Length: 2084, dtype: int64"
      ]
     },
     "execution_count": 6,
     "metadata": {},
     "output_type": "execute_result"
    }
   ],
   "source": [
    "od_data['Predicted Value'].value_counts()"
   ]
  },
  {
   "cell_type": "code",
   "execution_count": 7,
   "metadata": {},
   "outputs": [
    {
     "data": {
      "text/plain": [
       "100    10320\n",
       "Name: Percent Complete, dtype: int64"
      ]
     },
     "execution_count": 7,
     "metadata": {},
     "output_type": "execute_result"
    }
   ],
   "source": [
    "od_data['Percent Complete'].value_counts()"
   ]
  },
  {
   "cell_type": "code",
   "execution_count": 8,
   "metadata": {},
   "outputs": [
    {
     "data": {
      "text/plain": [
       "0.000000    1084\n",
       "0.201884      20\n",
       "0.028775      12\n",
       "0.035851      10\n",
       "0.178851      10\n",
       "            ... \n",
       "0.448405       2\n",
       "0.025623       2\n",
       "0.042091       2\n",
       "0.017596       2\n",
       "0.048884       2\n",
       "Name: Percent Pending Investigation, Length: 1883, dtype: int64"
      ]
     },
     "execution_count": 8,
     "metadata": {},
     "output_type": "execute_result"
    }
   ],
   "source": [
    "od_data['Percent Pending Investigation'].value_counts()"
   ]
  },
  {
   "cell_type": "code",
   "execution_count": 9,
   "metadata": {},
   "outputs": [
    {
     "data": {
      "text/plain": [
       "2015    3096\n",
       "2017    3096\n",
       "2016    3096\n",
       "2018    1032\n",
       "Name: Year, dtype: int64"
      ]
     },
     "execution_count": 9,
     "metadata": {},
     "output_type": "execute_result"
    }
   ],
   "source": [
    "od_data['Year'].value_counts()"
   ]
  },
  {
   "cell_type": "markdown",
   "metadata": {},
   "source": [
    "- 3.33 years of data?"
   ]
  },
  {
   "cell_type": "code",
   "execution_count": 10,
   "metadata": {
    "scrolled": false
   },
   "outputs": [
    {
     "data": {
      "text/plain": [
       "Underreported due to incomplete data                                                                                  4120\n",
       "Jurisdiction-specific values not shown for 2018 due to incomplete cause of death reporting at the time of analysis       8\n",
       "Name: Footnote, dtype: int64"
      ]
     },
     "execution_count": 10,
     "metadata": {},
     "output_type": "execute_result"
    }
   ],
   "source": [
    "od_data['Footnote'].value_counts()"
   ]
  },
  {
   "cell_type": "code",
   "execution_count": 11,
   "metadata": {},
   "outputs": [
    {
     "data": {
      "text/plain": [
       "UT    400\n",
       "NC    400\n",
       "NM    400\n",
       "NV    400\n",
       "CT    400\n",
       "WV    400\n",
       "YC    400\n",
       "NY    400\n",
       "ME    400\n",
       "US    400\n",
       "OK    400\n",
       "NH    400\n",
       "VT    400\n",
       "SC    400\n",
       "OR    400\n",
       "RI    400\n",
       "WA    400\n",
       "MD    400\n",
       "VA    400\n",
       "DC     80\n",
       "SD     80\n",
       "IN     80\n",
       "MN     80\n",
       "AR     80\n",
       "PA     80\n",
       "AZ     80\n",
       "KS     80\n",
       "NE     80\n",
       "CA     80\n",
       "ID     80\n",
       "ND     80\n",
       "IA     80\n",
       "AK     80\n",
       "MA     80\n",
       "WY     80\n",
       "OH     80\n",
       "LA     80\n",
       "CO     80\n",
       "FL     80\n",
       "KY     80\n",
       "WI     80\n",
       "IL     80\n",
       "MO     80\n",
       "MT     80\n",
       "NJ     80\n",
       "AL     80\n",
       "HI     80\n",
       "TN     80\n",
       "TX     80\n",
       "MI     80\n",
       "GA     80\n",
       "DE     80\n",
       "MS     80\n",
       "Name: State, dtype: int64"
      ]
     },
     "execution_count": 11,
     "metadata": {},
     "output_type": "execute_result"
    }
   ],
   "source": [
    "od_data['State'].value_counts()"
   ]
  },
  {
   "cell_type": "code",
   "execution_count": 12,
   "metadata": {},
   "outputs": [
    {
     "data": {
      "text/plain": [
       "UT    400\n",
       "NC    400\n",
       "NM    400\n",
       "NV    400\n",
       "CT    400\n",
       "WV    400\n",
       "YC    400\n",
       "NY    400\n",
       "ME    400\n",
       "US    400\n",
       "OK    400\n",
       "NH    400\n",
       "VT    400\n",
       "SC    400\n",
       "OR    400\n",
       "RI    400\n",
       "WA    400\n",
       "MD    400\n",
       "VA    400\n",
       "DC     80\n",
       "SD     80\n",
       "IN     80\n",
       "MN     80\n",
       "AR     80\n",
       "PA     80\n",
       "AZ     80\n",
       "KS     80\n",
       "NE     80\n",
       "CA     80\n",
       "ID     80\n",
       "ND     80\n",
       "IA     80\n",
       "AK     80\n",
       "MA     80\n",
       "WY     80\n",
       "OH     80\n",
       "LA     80\n",
       "CO     80\n",
       "FL     80\n",
       "KY     80\n",
       "WI     80\n",
       "IL     80\n",
       "MO     80\n",
       "MT     80\n",
       "NJ     80\n",
       "AL     80\n",
       "HI     80\n",
       "TN     80\n",
       "TX     80\n",
       "MI     80\n",
       "GA     80\n",
       "DE     80\n",
       "MS     80\n",
       "Name: State Name, dtype: int64"
      ]
     },
     "execution_count": 12,
     "metadata": {},
     "output_type": "execute_result"
    }
   ],
   "source": [
    "od_data['State Name'].value_counts()"
   ]
  },
  {
   "cell_type": "code",
   "execution_count": 13,
   "metadata": {},
   "outputs": [
    {
     "data": {
      "text/plain": [
       "UT    True\n",
       "NC    True\n",
       "NM    True\n",
       "NV    True\n",
       "CT    True\n",
       "WV    True\n",
       "YC    True\n",
       "NY    True\n",
       "ME    True\n",
       "US    True\n",
       "OK    True\n",
       "NH    True\n",
       "VT    True\n",
       "SC    True\n",
       "OR    True\n",
       "RI    True\n",
       "WA    True\n",
       "MD    True\n",
       "VA    True\n",
       "DC    True\n",
       "SD    True\n",
       "IN    True\n",
       "MN    True\n",
       "AR    True\n",
       "PA    True\n",
       "AZ    True\n",
       "KS    True\n",
       "NE    True\n",
       "CA    True\n",
       "ID    True\n",
       "ND    True\n",
       "IA    True\n",
       "AK    True\n",
       "MA    True\n",
       "WY    True\n",
       "OH    True\n",
       "LA    True\n",
       "CO    True\n",
       "FL    True\n",
       "KY    True\n",
       "WI    True\n",
       "IL    True\n",
       "MO    True\n",
       "MT    True\n",
       "NJ    True\n",
       "AL    True\n",
       "HI    True\n",
       "TN    True\n",
       "TX    True\n",
       "MI    True\n",
       "GA    True\n",
       "DE    True\n",
       "MS    True\n",
       "dtype: bool"
      ]
     },
     "execution_count": 13,
     "metadata": {},
     "output_type": "execute_result"
    }
   ],
   "source": [
    "od_data['State'].value_counts()==od_data['State Name'].value_counts()"
   ]
  },
  {
   "cell_type": "markdown",
   "metadata": {},
   "source": [
    "## Data Preparation"
   ]
  },
  {
   "cell_type": "markdown",
   "metadata": {},
   "source": [
    "- The column 'Percent Complete'\n",
    "\n",
    "- The column 'State Name'\n",
    "\n",
    "- The column 'Predicted Value'\n",
    "\n",
    "- The column 'Footnote'"
   ]
  },
  {
   "cell_type": "code",
   "execution_count": 14,
   "metadata": {},
   "outputs": [],
   "source": [
    "od_data = od_data.drop(columns=['Percent Complete'], axis=1)"
   ]
  },
  {
   "cell_type": "code",
   "execution_count": 15,
   "metadata": {},
   "outputs": [],
   "source": [
    "od_data = od_data.drop(columns=['State Name'], axis=1)"
   ]
  },
  {
   "cell_type": "code",
   "execution_count": 16,
   "metadata": {},
   "outputs": [],
   "source": [
    "od_data = od_data.drop(columns=['Predicted Value'], axis=1)"
   ]
  },
  {
   "cell_type": "code",
   "execution_count": 17,
   "metadata": {},
   "outputs": [],
   "source": [
    "od_data = od_data.drop(columns=['Footnote'], axis=1)"
   ]
  },
  {
   "cell_type": "code",
   "execution_count": 18,
   "metadata": {
    "scrolled": true
   },
   "outputs": [
    {
     "name": "stdout",
     "output_type": "stream",
     "text": [
      "<class 'pandas.core.frame.DataFrame'>\n",
      "RangeIndex: 10320 entries, 0 to 10319\n",
      "Data columns (total 6 columns):\n",
      " #   Column                         Non-Null Count  Dtype  \n",
      "---  ------                         --------------  -----  \n",
      " 0   State                          10320 non-null  object \n",
      " 1   Year                           10320 non-null  int64  \n",
      " 2   Month                          10320 non-null  object \n",
      " 3   Indicator                      10320 non-null  object \n",
      " 4   Data Value                     10320 non-null  float64\n",
      " 5   Percent Pending Investigation  10320 non-null  float64\n",
      "dtypes: float64(2), int64(1), object(3)\n",
      "memory usage: 483.9+ KB\n"
     ]
    }
   ],
   "source": [
    "od_data.info()"
   ]
  },
  {
   "cell_type": "code",
   "execution_count": 19,
   "metadata": {},
   "outputs": [],
   "source": [
    "import matplotlib.pyplot as plt\n",
    "%matplotlib inline\n",
    "import seaborn as sns"
   ]
  },
  {
   "cell_type": "code",
   "execution_count": 20,
   "metadata": {},
   "outputs": [
    {
     "data": {
      "text/html": [
       "<div>\n",
       "<style scoped>\n",
       "    .dataframe tbody tr th:only-of-type {\n",
       "        vertical-align: middle;\n",
       "    }\n",
       "\n",
       "    .dataframe tbody tr th {\n",
       "        vertical-align: top;\n",
       "    }\n",
       "\n",
       "    .dataframe thead th {\n",
       "        text-align: right;\n",
       "    }\n",
       "</style>\n",
       "<table border=\"1\" class=\"dataframe\">\n",
       "  <thead>\n",
       "    <tr style=\"text-align: right;\">\n",
       "      <th></th>\n",
       "      <th>State</th>\n",
       "      <th>Year</th>\n",
       "      <th>Month</th>\n",
       "      <th>Indicator</th>\n",
       "      <th>Data Value</th>\n",
       "      <th>Percent Pending Investigation</th>\n",
       "    </tr>\n",
       "  </thead>\n",
       "  <tbody>\n",
       "    <tr>\n",
       "      <th>0</th>\n",
       "      <td>AK</td>\n",
       "      <td>2015</td>\n",
       "      <td>January</td>\n",
       "      <td>Number of Deaths</td>\n",
       "      <td>4034.0</td>\n",
       "      <td>0.0</td>\n",
       "    </tr>\n",
       "    <tr>\n",
       "      <th>1</th>\n",
       "      <td>AK</td>\n",
       "      <td>2015</td>\n",
       "      <td>February</td>\n",
       "      <td>Number of Deaths</td>\n",
       "      <td>4084.0</td>\n",
       "      <td>0.0</td>\n",
       "    </tr>\n",
       "    <tr>\n",
       "      <th>2</th>\n",
       "      <td>AK</td>\n",
       "      <td>2015</td>\n",
       "      <td>March</td>\n",
       "      <td>Number of Deaths</td>\n",
       "      <td>4101.0</td>\n",
       "      <td>0.0</td>\n",
       "    </tr>\n",
       "    <tr>\n",
       "      <th>3</th>\n",
       "      <td>AK</td>\n",
       "      <td>2015</td>\n",
       "      <td>April</td>\n",
       "      <td>Number of Deaths</td>\n",
       "      <td>4133.0</td>\n",
       "      <td>0.0</td>\n",
       "    </tr>\n",
       "    <tr>\n",
       "      <th>4</th>\n",
       "      <td>AK</td>\n",
       "      <td>2015</td>\n",
       "      <td>May</td>\n",
       "      <td>Number of Deaths</td>\n",
       "      <td>4196.0</td>\n",
       "      <td>0.0</td>\n",
       "    </tr>\n",
       "  </tbody>\n",
       "</table>\n",
       "</div>"
      ],
      "text/plain": [
       "  State  Year     Month         Indicator  Data Value  \\\n",
       "0    AK  2015   January  Number of Deaths      4034.0   \n",
       "1    AK  2015  February  Number of Deaths      4084.0   \n",
       "2    AK  2015     March  Number of Deaths      4101.0   \n",
       "3    AK  2015     April  Number of Deaths      4133.0   \n",
       "4    AK  2015       May  Number of Deaths      4196.0   \n",
       "\n",
       "   Percent Pending Investigation  \n",
       "0                            0.0  \n",
       "1                            0.0  \n",
       "2                            0.0  \n",
       "3                            0.0  \n",
       "4                            0.0  "
      ]
     },
     "execution_count": 20,
     "metadata": {},
     "output_type": "execute_result"
    }
   ],
   "source": [
    "od_data.head()"
   ]
  },
  {
   "cell_type": "code",
   "execution_count": 21,
   "metadata": {},
   "outputs": [],
   "source": [
    "od_data2 = od_data.copy()"
   ]
  },
  {
   "cell_type": "code",
   "execution_count": 22,
   "metadata": {
    "scrolled": true
   },
   "outputs": [
    {
     "data": {
      "text/html": [
       "<div>\n",
       "<style scoped>\n",
       "    .dataframe tbody tr th:only-of-type {\n",
       "        vertical-align: middle;\n",
       "    }\n",
       "\n",
       "    .dataframe tbody tr th {\n",
       "        vertical-align: top;\n",
       "    }\n",
       "\n",
       "    .dataframe thead th {\n",
       "        text-align: right;\n",
       "    }\n",
       "</style>\n",
       "<table border=\"1\" class=\"dataframe\">\n",
       "  <thead>\n",
       "    <tr style=\"text-align: right;\">\n",
       "      <th></th>\n",
       "      <th>State</th>\n",
       "      <th>Year</th>\n",
       "      <th>Month</th>\n",
       "      <th>Indicator</th>\n",
       "      <th>Data Value</th>\n",
       "      <th>Percent Pending Investigation</th>\n",
       "      <th>Date</th>\n",
       "    </tr>\n",
       "  </thead>\n",
       "  <tbody>\n",
       "    <tr>\n",
       "      <th>0</th>\n",
       "      <td>AK</td>\n",
       "      <td>2015</td>\n",
       "      <td>January</td>\n",
       "      <td>Number of Deaths</td>\n",
       "      <td>4034.0</td>\n",
       "      <td>0.0</td>\n",
       "      <td>January 2015</td>\n",
       "    </tr>\n",
       "    <tr>\n",
       "      <th>1</th>\n",
       "      <td>AK</td>\n",
       "      <td>2015</td>\n",
       "      <td>February</td>\n",
       "      <td>Number of Deaths</td>\n",
       "      <td>4084.0</td>\n",
       "      <td>0.0</td>\n",
       "      <td>February 2015</td>\n",
       "    </tr>\n",
       "    <tr>\n",
       "      <th>2</th>\n",
       "      <td>AK</td>\n",
       "      <td>2015</td>\n",
       "      <td>March</td>\n",
       "      <td>Number of Deaths</td>\n",
       "      <td>4101.0</td>\n",
       "      <td>0.0</td>\n",
       "      <td>March 2015</td>\n",
       "    </tr>\n",
       "    <tr>\n",
       "      <th>3</th>\n",
       "      <td>AK</td>\n",
       "      <td>2015</td>\n",
       "      <td>April</td>\n",
       "      <td>Number of Deaths</td>\n",
       "      <td>4133.0</td>\n",
       "      <td>0.0</td>\n",
       "      <td>April 2015</td>\n",
       "    </tr>\n",
       "    <tr>\n",
       "      <th>4</th>\n",
       "      <td>AK</td>\n",
       "      <td>2015</td>\n",
       "      <td>May</td>\n",
       "      <td>Number of Deaths</td>\n",
       "      <td>4196.0</td>\n",
       "      <td>0.0</td>\n",
       "      <td>May 2015</td>\n",
       "    </tr>\n",
       "  </tbody>\n",
       "</table>\n",
       "</div>"
      ],
      "text/plain": [
       "  State  Year     Month         Indicator  Data Value  \\\n",
       "0    AK  2015   January  Number of Deaths      4034.0   \n",
       "1    AK  2015  February  Number of Deaths      4084.0   \n",
       "2    AK  2015     March  Number of Deaths      4101.0   \n",
       "3    AK  2015     April  Number of Deaths      4133.0   \n",
       "4    AK  2015       May  Number of Deaths      4196.0   \n",
       "\n",
       "   Percent Pending Investigation           Date  \n",
       "0                            0.0   January 2015  \n",
       "1                            0.0  February 2015  \n",
       "2                            0.0     March 2015  \n",
       "3                            0.0     April 2015  \n",
       "4                            0.0       May 2015  "
      ]
     },
     "execution_count": 22,
     "metadata": {},
     "output_type": "execute_result"
    }
   ],
   "source": [
    "od_data2['Date'] = od_data2['Month'] + \" \" + od_data2['Year'].astype(str)\n",
    "od_data2.head()"
   ]
  },
  {
   "cell_type": "code",
   "execution_count": 23,
   "metadata": {
    "scrolled": true
   },
   "outputs": [
    {
     "data": {
      "text/html": [
       "<div>\n",
       "<style scoped>\n",
       "    .dataframe tbody tr th:only-of-type {\n",
       "        vertical-align: middle;\n",
       "    }\n",
       "\n",
       "    .dataframe tbody tr th {\n",
       "        vertical-align: top;\n",
       "    }\n",
       "\n",
       "    .dataframe thead th {\n",
       "        text-align: right;\n",
       "    }\n",
       "</style>\n",
       "<table border=\"1\" class=\"dataframe\">\n",
       "  <thead>\n",
       "    <tr style=\"text-align: right;\">\n",
       "      <th></th>\n",
       "      <th>State</th>\n",
       "      <th>Year</th>\n",
       "      <th>Month</th>\n",
       "      <th>Indicator</th>\n",
       "      <th>Data Value</th>\n",
       "      <th>Percent Pending Investigation</th>\n",
       "      <th>Date</th>\n",
       "    </tr>\n",
       "  </thead>\n",
       "  <tbody>\n",
       "    <tr>\n",
       "      <th>0</th>\n",
       "      <td>AK</td>\n",
       "      <td>2015</td>\n",
       "      <td>January</td>\n",
       "      <td>Number of Deaths</td>\n",
       "      <td>4034.0</td>\n",
       "      <td>0.0</td>\n",
       "      <td>2015-01-01</td>\n",
       "    </tr>\n",
       "    <tr>\n",
       "      <th>1</th>\n",
       "      <td>AK</td>\n",
       "      <td>2015</td>\n",
       "      <td>February</td>\n",
       "      <td>Number of Deaths</td>\n",
       "      <td>4084.0</td>\n",
       "      <td>0.0</td>\n",
       "      <td>2015-02-01</td>\n",
       "    </tr>\n",
       "    <tr>\n",
       "      <th>2</th>\n",
       "      <td>AK</td>\n",
       "      <td>2015</td>\n",
       "      <td>March</td>\n",
       "      <td>Number of Deaths</td>\n",
       "      <td>4101.0</td>\n",
       "      <td>0.0</td>\n",
       "      <td>2015-03-01</td>\n",
       "    </tr>\n",
       "    <tr>\n",
       "      <th>3</th>\n",
       "      <td>AK</td>\n",
       "      <td>2015</td>\n",
       "      <td>April</td>\n",
       "      <td>Number of Deaths</td>\n",
       "      <td>4133.0</td>\n",
       "      <td>0.0</td>\n",
       "      <td>2015-04-01</td>\n",
       "    </tr>\n",
       "    <tr>\n",
       "      <th>4</th>\n",
       "      <td>AK</td>\n",
       "      <td>2015</td>\n",
       "      <td>May</td>\n",
       "      <td>Number of Deaths</td>\n",
       "      <td>4196.0</td>\n",
       "      <td>0.0</td>\n",
       "      <td>2015-05-01</td>\n",
       "    </tr>\n",
       "  </tbody>\n",
       "</table>\n",
       "</div>"
      ],
      "text/plain": [
       "  State  Year     Month         Indicator  Data Value  \\\n",
       "0    AK  2015   January  Number of Deaths      4034.0   \n",
       "1    AK  2015  February  Number of Deaths      4084.0   \n",
       "2    AK  2015     March  Number of Deaths      4101.0   \n",
       "3    AK  2015     April  Number of Deaths      4133.0   \n",
       "4    AK  2015       May  Number of Deaths      4196.0   \n",
       "\n",
       "   Percent Pending Investigation       Date  \n",
       "0                            0.0 2015-01-01  \n",
       "1                            0.0 2015-02-01  \n",
       "2                            0.0 2015-03-01  \n",
       "3                            0.0 2015-04-01  \n",
       "4                            0.0 2015-05-01  "
      ]
     },
     "execution_count": 23,
     "metadata": {},
     "output_type": "execute_result"
    }
   ],
   "source": [
    "od_data2['Date'] = pd.to_datetime(od_data2['Date'])\n",
    "od_data2.head()"
   ]
  },
  {
   "cell_type": "code",
   "execution_count": 24,
   "metadata": {},
   "outputs": [],
   "source": [
    "od_data2 = od_data2.drop(columns=['Year', 'Month'], axis=1)"
   ]
  },
  {
   "cell_type": "code",
   "execution_count": 25,
   "metadata": {},
   "outputs": [],
   "source": [
    "od_data2.set_index('Date', inplace=True)"
   ]
  },
  {
   "cell_type": "code",
   "execution_count": 26,
   "metadata": {},
   "outputs": [
    {
     "data": {
      "text/html": [
       "<div>\n",
       "<style scoped>\n",
       "    .dataframe tbody tr th:only-of-type {\n",
       "        vertical-align: middle;\n",
       "    }\n",
       "\n",
       "    .dataframe tbody tr th {\n",
       "        vertical-align: top;\n",
       "    }\n",
       "\n",
       "    .dataframe thead th {\n",
       "        text-align: right;\n",
       "    }\n",
       "</style>\n",
       "<table border=\"1\" class=\"dataframe\">\n",
       "  <thead>\n",
       "    <tr style=\"text-align: right;\">\n",
       "      <th></th>\n",
       "      <th>State</th>\n",
       "      <th>Indicator</th>\n",
       "      <th>Data Value</th>\n",
       "      <th>Percent Pending Investigation</th>\n",
       "    </tr>\n",
       "    <tr>\n",
       "      <th>Date</th>\n",
       "      <th></th>\n",
       "      <th></th>\n",
       "      <th></th>\n",
       "      <th></th>\n",
       "    </tr>\n",
       "  </thead>\n",
       "  <tbody>\n",
       "    <tr>\n",
       "      <th>2015-01-01</th>\n",
       "      <td>AK</td>\n",
       "      <td>Number of Deaths</td>\n",
       "      <td>4034.0</td>\n",
       "      <td>0.0</td>\n",
       "    </tr>\n",
       "    <tr>\n",
       "      <th>2015-02-01</th>\n",
       "      <td>AK</td>\n",
       "      <td>Number of Deaths</td>\n",
       "      <td>4084.0</td>\n",
       "      <td>0.0</td>\n",
       "    </tr>\n",
       "    <tr>\n",
       "      <th>2015-03-01</th>\n",
       "      <td>AK</td>\n",
       "      <td>Number of Deaths</td>\n",
       "      <td>4101.0</td>\n",
       "      <td>0.0</td>\n",
       "    </tr>\n",
       "    <tr>\n",
       "      <th>2015-04-01</th>\n",
       "      <td>AK</td>\n",
       "      <td>Number of Deaths</td>\n",
       "      <td>4133.0</td>\n",
       "      <td>0.0</td>\n",
       "    </tr>\n",
       "    <tr>\n",
       "      <th>2015-05-01</th>\n",
       "      <td>AK</td>\n",
       "      <td>Number of Deaths</td>\n",
       "      <td>4196.0</td>\n",
       "      <td>0.0</td>\n",
       "    </tr>\n",
       "  </tbody>\n",
       "</table>\n",
       "</div>"
      ],
      "text/plain": [
       "           State         Indicator  Data Value  Percent Pending Investigation\n",
       "Date                                                                         \n",
       "2015-01-01    AK  Number of Deaths      4034.0                            0.0\n",
       "2015-02-01    AK  Number of Deaths      4084.0                            0.0\n",
       "2015-03-01    AK  Number of Deaths      4101.0                            0.0\n",
       "2015-04-01    AK  Number of Deaths      4133.0                            0.0\n",
       "2015-05-01    AK  Number of Deaths      4196.0                            0.0"
      ]
     },
     "execution_count": 26,
     "metadata": {},
     "output_type": "execute_result"
    }
   ],
   "source": [
    "od_data2.head()"
   ]
  },
  {
   "cell_type": "markdown",
   "metadata": {},
   "source": [
    "### Creat two Dataframes that have 'Number of Deaths' and 'Number of Drug Overdose Deaths' separate. "
   ]
  },
  {
   "cell_type": "code",
   "execution_count": 27,
   "metadata": {},
   "outputs": [
    {
     "name": "stdout",
     "output_type": "stream",
     "text": [
      "<class 'pandas.core.frame.DataFrame'>\n",
      "DatetimeIndex: 4240 entries, 2015-01-01 to 2018-04-01\n",
      "Data columns (total 4 columns):\n",
      " #   Column                         Non-Null Count  Dtype  \n",
      "---  ------                         --------------  -----  \n",
      " 0   State                          4240 non-null   object \n",
      " 1   Indicator                      4240 non-null   object \n",
      " 2   Data Value                     4240 non-null   float64\n",
      " 3   Percent Pending Investigation  4240 non-null   float64\n",
      "dtypes: float64(2), object(2)\n",
      "memory usage: 165.6+ KB\n"
     ]
    }
   ],
   "source": [
    "od_df = od_data2[(od_data2['Indicator'] == 'Number of Deaths') | (od_data2['Indicator'] == 'Number of Drug Overdose Deaths')]\n",
    "od_df.info()                                                                 "
   ]
  },
  {
   "cell_type": "code",
   "execution_count": 28,
   "metadata": {},
   "outputs": [],
   "source": [
    "# Groupby way of splitting data\n",
    "#grouped = od_data2.groupby(['State', 'Indicator'])\n",
    "#od_df = grouped.get_group(('NY', 'Number of Deaths'&'Number of Overdose Deaths'))"
   ]
  },
  {
   "cell_type": "code",
   "execution_count": 29,
   "metadata": {},
   "outputs": [
    {
     "data": {
      "text/html": [
       "<div>\n",
       "<style scoped>\n",
       "    .dataframe tbody tr th:only-of-type {\n",
       "        vertical-align: middle;\n",
       "    }\n",
       "\n",
       "    .dataframe tbody tr th {\n",
       "        vertical-align: top;\n",
       "    }\n",
       "\n",
       "    .dataframe thead th {\n",
       "        text-align: right;\n",
       "    }\n",
       "</style>\n",
       "<table border=\"1\" class=\"dataframe\">\n",
       "  <thead>\n",
       "    <tr style=\"text-align: right;\">\n",
       "      <th></th>\n",
       "      <th>State</th>\n",
       "      <th>Indicator</th>\n",
       "      <th>Data Value</th>\n",
       "      <th>Percent Pending Investigation</th>\n",
       "    </tr>\n",
       "    <tr>\n",
       "      <th>Date</th>\n",
       "      <th></th>\n",
       "      <th></th>\n",
       "      <th></th>\n",
       "      <th></th>\n",
       "    </tr>\n",
       "  </thead>\n",
       "  <tbody>\n",
       "    <tr>\n",
       "      <th>2015-01-01</th>\n",
       "      <td>AK</td>\n",
       "      <td>Number of Deaths</td>\n",
       "      <td>4034.0</td>\n",
       "      <td>0.0</td>\n",
       "    </tr>\n",
       "    <tr>\n",
       "      <th>2015-02-01</th>\n",
       "      <td>AK</td>\n",
       "      <td>Number of Deaths</td>\n",
       "      <td>4084.0</td>\n",
       "      <td>0.0</td>\n",
       "    </tr>\n",
       "    <tr>\n",
       "      <th>2015-03-01</th>\n",
       "      <td>AK</td>\n",
       "      <td>Number of Deaths</td>\n",
       "      <td>4101.0</td>\n",
       "      <td>0.0</td>\n",
       "    </tr>\n",
       "    <tr>\n",
       "      <th>2015-04-01</th>\n",
       "      <td>AK</td>\n",
       "      <td>Number of Deaths</td>\n",
       "      <td>4133.0</td>\n",
       "      <td>0.0</td>\n",
       "    </tr>\n",
       "    <tr>\n",
       "      <th>2015-05-01</th>\n",
       "      <td>AK</td>\n",
       "      <td>Number of Deaths</td>\n",
       "      <td>4196.0</td>\n",
       "      <td>0.0</td>\n",
       "    </tr>\n",
       "  </tbody>\n",
       "</table>\n",
       "</div>"
      ],
      "text/plain": [
       "           State         Indicator  Data Value  Percent Pending Investigation\n",
       "Date                                                                         \n",
       "2015-01-01    AK  Number of Deaths      4034.0                            0.0\n",
       "2015-02-01    AK  Number of Deaths      4084.0                            0.0\n",
       "2015-03-01    AK  Number of Deaths      4101.0                            0.0\n",
       "2015-04-01    AK  Number of Deaths      4133.0                            0.0\n",
       "2015-05-01    AK  Number of Deaths      4196.0                            0.0"
      ]
     },
     "execution_count": 29,
     "metadata": {},
     "output_type": "execute_result"
    }
   ],
   "source": [
    "od_df.head()"
   ]
  },
  {
   "cell_type": "code",
   "execution_count": 30,
   "metadata": {},
   "outputs": [],
   "source": [
    "deaths_df = od_df[od_df['Indicator'] == 'Number of Deaths']"
   ]
  },
  {
   "cell_type": "code",
   "execution_count": 31,
   "metadata": {},
   "outputs": [
    {
     "data": {
      "text/html": [
       "<div>\n",
       "<style scoped>\n",
       "    .dataframe tbody tr th:only-of-type {\n",
       "        vertical-align: middle;\n",
       "    }\n",
       "\n",
       "    .dataframe tbody tr th {\n",
       "        vertical-align: top;\n",
       "    }\n",
       "\n",
       "    .dataframe thead th {\n",
       "        text-align: right;\n",
       "    }\n",
       "</style>\n",
       "<table border=\"1\" class=\"dataframe\">\n",
       "  <thead>\n",
       "    <tr style=\"text-align: right;\">\n",
       "      <th></th>\n",
       "      <th>State</th>\n",
       "      <th>Indicator</th>\n",
       "      <th>Data Value</th>\n",
       "      <th>Percent Pending Investigation</th>\n",
       "    </tr>\n",
       "    <tr>\n",
       "      <th>Date</th>\n",
       "      <th></th>\n",
       "      <th></th>\n",
       "      <th></th>\n",
       "      <th></th>\n",
       "    </tr>\n",
       "  </thead>\n",
       "  <tbody>\n",
       "    <tr>\n",
       "      <th>2015-01-01</th>\n",
       "      <td>AK</td>\n",
       "      <td>Number of Deaths</td>\n",
       "      <td>4034.0</td>\n",
       "      <td>0.0</td>\n",
       "    </tr>\n",
       "    <tr>\n",
       "      <th>2015-02-01</th>\n",
       "      <td>AK</td>\n",
       "      <td>Number of Deaths</td>\n",
       "      <td>4084.0</td>\n",
       "      <td>0.0</td>\n",
       "    </tr>\n",
       "  </tbody>\n",
       "</table>\n",
       "</div>"
      ],
      "text/plain": [
       "           State         Indicator  Data Value  Percent Pending Investigation\n",
       "Date                                                                         \n",
       "2015-01-01    AK  Number of Deaths      4034.0                            0.0\n",
       "2015-02-01    AK  Number of Deaths      4084.0                            0.0"
      ]
     },
     "execution_count": 31,
     "metadata": {},
     "output_type": "execute_result"
    }
   ],
   "source": [
    "deaths_df.head(2)"
   ]
  },
  {
   "cell_type": "code",
   "execution_count": 32,
   "metadata": {},
   "outputs": [
    {
     "name": "stdout",
     "output_type": "stream",
     "text": [
      "<class 'pandas.core.frame.DataFrame'>\n",
      "DatetimeIndex: 2120 entries, 2015-01-01 to 2018-04-01\n",
      "Data columns (total 4 columns):\n",
      " #   Column                         Non-Null Count  Dtype  \n",
      "---  ------                         --------------  -----  \n",
      " 0   State                          2120 non-null   object \n",
      " 1   Indicator                      2120 non-null   object \n",
      " 2   Data Value                     2120 non-null   float64\n",
      " 3   Percent Pending Investigation  2120 non-null   float64\n",
      "dtypes: float64(2), object(2)\n",
      "memory usage: 82.8+ KB\n"
     ]
    }
   ],
   "source": [
    "deaths_df.info()"
   ]
  },
  {
   "cell_type": "code",
   "execution_count": 33,
   "metadata": {},
   "outputs": [],
   "source": [
    "overdose_df = od_df[od_df['Indicator'] == 'Number of Drug Overdose Deaths']"
   ]
  },
  {
   "cell_type": "code",
   "execution_count": 34,
   "metadata": {},
   "outputs": [
    {
     "data": {
      "text/html": [
       "<div>\n",
       "<style scoped>\n",
       "    .dataframe tbody tr th:only-of-type {\n",
       "        vertical-align: middle;\n",
       "    }\n",
       "\n",
       "    .dataframe tbody tr th {\n",
       "        vertical-align: top;\n",
       "    }\n",
       "\n",
       "    .dataframe thead th {\n",
       "        text-align: right;\n",
       "    }\n",
       "</style>\n",
       "<table border=\"1\" class=\"dataframe\">\n",
       "  <thead>\n",
       "    <tr style=\"text-align: right;\">\n",
       "      <th></th>\n",
       "      <th>State</th>\n",
       "      <th>Indicator</th>\n",
       "      <th>Data Value</th>\n",
       "      <th>Percent Pending Investigation</th>\n",
       "    </tr>\n",
       "    <tr>\n",
       "      <th>Date</th>\n",
       "      <th></th>\n",
       "      <th></th>\n",
       "      <th></th>\n",
       "      <th></th>\n",
       "    </tr>\n",
       "  </thead>\n",
       "  <tbody>\n",
       "    <tr>\n",
       "      <th>2015-01-01</th>\n",
       "      <td>AK</td>\n",
       "      <td>Number of Drug Overdose Deaths</td>\n",
       "      <td>126.0</td>\n",
       "      <td>0.0</td>\n",
       "    </tr>\n",
       "    <tr>\n",
       "      <th>2015-02-01</th>\n",
       "      <td>AK</td>\n",
       "      <td>Number of Drug Overdose Deaths</td>\n",
       "      <td>127.0</td>\n",
       "      <td>0.0</td>\n",
       "    </tr>\n",
       "  </tbody>\n",
       "</table>\n",
       "</div>"
      ],
      "text/plain": [
       "           State                       Indicator  Data Value  \\\n",
       "Date                                                           \n",
       "2015-01-01    AK  Number of Drug Overdose Deaths       126.0   \n",
       "2015-02-01    AK  Number of Drug Overdose Deaths       127.0   \n",
       "\n",
       "            Percent Pending Investigation  \n",
       "Date                                       \n",
       "2015-01-01                            0.0  \n",
       "2015-02-01                            0.0  "
      ]
     },
     "execution_count": 34,
     "metadata": {},
     "output_type": "execute_result"
    }
   ],
   "source": [
    "overdose_df.head(2)"
   ]
  },
  {
   "cell_type": "markdown",
   "metadata": {},
   "source": [
    "## Combo dataframe of total deths and drug deaths"
   ]
  },
  {
   "cell_type": "code",
   "execution_count": 35,
   "metadata": {},
   "outputs": [],
   "source": [
    "combo_df = pd.merge(deaths_df, overdose_df, on=['Date', 'State']) "
   ]
  },
  {
   "cell_type": "code",
   "execution_count": 36,
   "metadata": {},
   "outputs": [
    {
     "data": {
      "text/html": [
       "<div>\n",
       "<style scoped>\n",
       "    .dataframe tbody tr th:only-of-type {\n",
       "        vertical-align: middle;\n",
       "    }\n",
       "\n",
       "    .dataframe tbody tr th {\n",
       "        vertical-align: top;\n",
       "    }\n",
       "\n",
       "    .dataframe thead th {\n",
       "        text-align: right;\n",
       "    }\n",
       "</style>\n",
       "<table border=\"1\" class=\"dataframe\">\n",
       "  <thead>\n",
       "    <tr style=\"text-align: right;\">\n",
       "      <th></th>\n",
       "      <th>State</th>\n",
       "      <th>Indicator_x</th>\n",
       "      <th>Data Value_x</th>\n",
       "      <th>Percent Pending Investigation_x</th>\n",
       "      <th>Indicator_y</th>\n",
       "      <th>Data Value_y</th>\n",
       "      <th>Percent Pending Investigation_y</th>\n",
       "    </tr>\n",
       "    <tr>\n",
       "      <th>Date</th>\n",
       "      <th></th>\n",
       "      <th></th>\n",
       "      <th></th>\n",
       "      <th></th>\n",
       "      <th></th>\n",
       "      <th></th>\n",
       "      <th></th>\n",
       "    </tr>\n",
       "  </thead>\n",
       "  <tbody>\n",
       "    <tr>\n",
       "      <th>2015-01-01</th>\n",
       "      <td>AK</td>\n",
       "      <td>Number of Deaths</td>\n",
       "      <td>4034.0</td>\n",
       "      <td>0.0</td>\n",
       "      <td>Number of Drug Overdose Deaths</td>\n",
       "      <td>126.0</td>\n",
       "      <td>0.0</td>\n",
       "    </tr>\n",
       "    <tr>\n",
       "      <th>2015-02-01</th>\n",
       "      <td>AK</td>\n",
       "      <td>Number of Deaths</td>\n",
       "      <td>4084.0</td>\n",
       "      <td>0.0</td>\n",
       "      <td>Number of Drug Overdose Deaths</td>\n",
       "      <td>127.0</td>\n",
       "      <td>0.0</td>\n",
       "    </tr>\n",
       "  </tbody>\n",
       "</table>\n",
       "</div>"
      ],
      "text/plain": [
       "           State       Indicator_x  Data Value_x  \\\n",
       "Date                                               \n",
       "2015-01-01    AK  Number of Deaths        4034.0   \n",
       "2015-02-01    AK  Number of Deaths        4084.0   \n",
       "\n",
       "            Percent Pending Investigation_x                     Indicator_y  \\\n",
       "Date                                                                          \n",
       "2015-01-01                              0.0  Number of Drug Overdose Deaths   \n",
       "2015-02-01                              0.0  Number of Drug Overdose Deaths   \n",
       "\n",
       "            Data Value_y  Percent Pending Investigation_y  \n",
       "Date                                                       \n",
       "2015-01-01         126.0                              0.0  \n",
       "2015-02-01         127.0                              0.0  "
      ]
     },
     "execution_count": 36,
     "metadata": {},
     "output_type": "execute_result"
    }
   ],
   "source": [
    "combo_df.head(2)"
   ]
  },
  {
   "cell_type": "code",
   "execution_count": 37,
   "metadata": {
    "scrolled": true
   },
   "outputs": [
    {
     "name": "stdout",
     "output_type": "stream",
     "text": [
      "<class 'pandas.core.frame.DataFrame'>\n",
      "DatetimeIndex: 2120 entries, 2015-01-01 to 2018-04-01\n",
      "Data columns (total 7 columns):\n",
      " #   Column                           Non-Null Count  Dtype  \n",
      "---  ------                           --------------  -----  \n",
      " 0   State                            2120 non-null   object \n",
      " 1   Indicator_x                      2120 non-null   object \n",
      " 2   Data Value_x                     2120 non-null   float64\n",
      " 3   Percent Pending Investigation_x  2120 non-null   float64\n",
      " 4   Indicator_y                      2120 non-null   object \n",
      " 5   Data Value_y                     2120 non-null   float64\n",
      " 6   Percent Pending Investigation_y  2120 non-null   float64\n",
      "dtypes: float64(4), object(3)\n",
      "memory usage: 132.5+ KB\n"
     ]
    }
   ],
   "source": [
    "combo_df.info()"
   ]
  },
  {
   "cell_type": "code",
   "execution_count": 38,
   "metadata": {},
   "outputs": [],
   "source": [
    "combo_df = combo_df.drop(columns='Percent Pending Investigation_y', axis=1)"
   ]
  },
  {
   "cell_type": "code",
   "execution_count": 39,
   "metadata": {},
   "outputs": [],
   "source": [
    "combo_df['Data Value_x'] = combo_df['Data Value_x'].astype(int)"
   ]
  },
  {
   "cell_type": "code",
   "execution_count": 40,
   "metadata": {},
   "outputs": [],
   "source": [
    "combo_df['Data Value_y'] = combo_df['Data Value_y'].astype(int)"
   ]
  },
  {
   "cell_type": "code",
   "execution_count": 41,
   "metadata": {},
   "outputs": [
    {
     "name": "stdout",
     "output_type": "stream",
     "text": [
      "<class 'pandas.core.frame.DataFrame'>\n",
      "DatetimeIndex: 2120 entries, 2015-01-01 to 2018-04-01\n",
      "Data columns (total 6 columns):\n",
      " #   Column                           Non-Null Count  Dtype  \n",
      "---  ------                           --------------  -----  \n",
      " 0   State                            2120 non-null   object \n",
      " 1   Indicator_x                      2120 non-null   object \n",
      " 2   Data Value_x                     2120 non-null   int64  \n",
      " 3   Percent Pending Investigation_x  2120 non-null   float64\n",
      " 4   Indicator_y                      2120 non-null   object \n",
      " 5   Data Value_y                     2120 non-null   int64  \n",
      "dtypes: float64(1), int64(2), object(3)\n",
      "memory usage: 115.9+ KB\n"
     ]
    }
   ],
   "source": [
    "combo_df.info()"
   ]
  },
  {
   "cell_type": "code",
   "execution_count": 42,
   "metadata": {},
   "outputs": [],
   "source": [
    "# Create copy of this df incase i need the columns to be somewhat original before these next changes\n",
    "combos_df = combo_df.copy()"
   ]
  },
  {
   "cell_type": "code",
   "execution_count": 43,
   "metadata": {},
   "outputs": [],
   "source": [
    "combo_df = combo_df.rename(columns={'Data Value_x': \"Total Deaths\", 'Data Value_y': \"Overdose Deaths\"})"
   ]
  },
  {
   "cell_type": "code",
   "execution_count": 44,
   "metadata": {},
   "outputs": [],
   "source": [
    "combo_df = combo_df.drop(columns=['Indicator_x','Indicator_y'], axis=1)"
   ]
  },
  {
   "cell_type": "code",
   "execution_count": 45,
   "metadata": {},
   "outputs": [
    {
     "name": "stdout",
     "output_type": "stream",
     "text": [
      "<class 'pandas.core.frame.DataFrame'>\n",
      "DatetimeIndex: 2120 entries, 2015-01-01 to 2018-04-01\n",
      "Data columns (total 4 columns):\n",
      " #   Column                           Non-Null Count  Dtype  \n",
      "---  ------                           --------------  -----  \n",
      " 0   State                            2120 non-null   object \n",
      " 1   Total Deaths                     2120 non-null   int64  \n",
      " 2   Percent Pending Investigation_x  2120 non-null   float64\n",
      " 3   Overdose Deaths                  2120 non-null   int64  \n",
      "dtypes: float64(1), int64(2), object(1)\n",
      "memory usage: 82.8+ KB\n"
     ]
    }
   ],
   "source": [
    "combo_df.info()"
   ]
  },
  {
   "cell_type": "code",
   "execution_count": 46,
   "metadata": {},
   "outputs": [],
   "source": [
    "combo_df['OD Percentage of Total Deaths'] = ((combo_df[\"Overdose Deaths\"] / combo_df[\"Total Deaths\"]).replace(np.nan, 0) * 100).round(1)"
   ]
  },
  {
   "cell_type": "code",
   "execution_count": 47,
   "metadata": {},
   "outputs": [
    {
     "data": {
      "text/html": [
       "<div>\n",
       "<style scoped>\n",
       "    .dataframe tbody tr th:only-of-type {\n",
       "        vertical-align: middle;\n",
       "    }\n",
       "\n",
       "    .dataframe tbody tr th {\n",
       "        vertical-align: top;\n",
       "    }\n",
       "\n",
       "    .dataframe thead th {\n",
       "        text-align: right;\n",
       "    }\n",
       "</style>\n",
       "<table border=\"1\" class=\"dataframe\">\n",
       "  <thead>\n",
       "    <tr style=\"text-align: right;\">\n",
       "      <th></th>\n",
       "      <th>State</th>\n",
       "      <th>Total Deaths</th>\n",
       "      <th>Percent Pending Investigation_x</th>\n",
       "      <th>Overdose Deaths</th>\n",
       "      <th>OD Percentage of Total Deaths</th>\n",
       "    </tr>\n",
       "    <tr>\n",
       "      <th>Date</th>\n",
       "      <th></th>\n",
       "      <th></th>\n",
       "      <th></th>\n",
       "      <th></th>\n",
       "      <th></th>\n",
       "    </tr>\n",
       "  </thead>\n",
       "  <tbody>\n",
       "    <tr>\n",
       "      <th>2015-01-01</th>\n",
       "      <td>AK</td>\n",
       "      <td>4034</td>\n",
       "      <td>0.0</td>\n",
       "      <td>126</td>\n",
       "      <td>3.1</td>\n",
       "    </tr>\n",
       "    <tr>\n",
       "      <th>2015-02-01</th>\n",
       "      <td>AK</td>\n",
       "      <td>4084</td>\n",
       "      <td>0.0</td>\n",
       "      <td>127</td>\n",
       "      <td>3.1</td>\n",
       "    </tr>\n",
       "    <tr>\n",
       "      <th>2015-03-01</th>\n",
       "      <td>AK</td>\n",
       "      <td>4101</td>\n",
       "      <td>0.0</td>\n",
       "      <td>125</td>\n",
       "      <td>3.0</td>\n",
       "    </tr>\n",
       "    <tr>\n",
       "      <th>2015-04-01</th>\n",
       "      <td>AK</td>\n",
       "      <td>4133</td>\n",
       "      <td>0.0</td>\n",
       "      <td>126</td>\n",
       "      <td>3.0</td>\n",
       "    </tr>\n",
       "    <tr>\n",
       "      <th>2015-05-01</th>\n",
       "      <td>AK</td>\n",
       "      <td>4196</td>\n",
       "      <td>0.0</td>\n",
       "      <td>125</td>\n",
       "      <td>3.0</td>\n",
       "    </tr>\n",
       "  </tbody>\n",
       "</table>\n",
       "</div>"
      ],
      "text/plain": [
       "           State  Total Deaths  Percent Pending Investigation_x  \\\n",
       "Date                                                              \n",
       "2015-01-01    AK          4034                              0.0   \n",
       "2015-02-01    AK          4084                              0.0   \n",
       "2015-03-01    AK          4101                              0.0   \n",
       "2015-04-01    AK          4133                              0.0   \n",
       "2015-05-01    AK          4196                              0.0   \n",
       "\n",
       "            Overdose Deaths  OD Percentage of Total Deaths  \n",
       "Date                                                        \n",
       "2015-01-01              126                            3.1  \n",
       "2015-02-01              127                            3.1  \n",
       "2015-03-01              125                            3.0  \n",
       "2015-04-01              126                            3.0  \n",
       "2015-05-01              125                            3.0  "
      ]
     },
     "execution_count": 47,
     "metadata": {},
     "output_type": "execute_result"
    }
   ],
   "source": [
    "combo_df.head()"
   ]
  },
  {
   "cell_type": "code",
   "execution_count": 48,
   "metadata": {},
   "outputs": [
    {
     "name": "stdout",
     "output_type": "stream",
     "text": [
      "<class 'pandas.core.frame.DataFrame'>\n",
      "DatetimeIndex: 2120 entries, 2015-01-01 to 2018-04-01\n",
      "Data columns (total 5 columns):\n",
      " #   Column                           Non-Null Count  Dtype  \n",
      "---  ------                           --------------  -----  \n",
      " 0   State                            2120 non-null   object \n",
      " 1   Total Deaths                     2120 non-null   int64  \n",
      " 2   Percent Pending Investigation_x  2120 non-null   float64\n",
      " 3   Overdose Deaths                  2120 non-null   int64  \n",
      " 4   OD Percentage of Total Deaths    2120 non-null   float64\n",
      "dtypes: float64(2), int64(2), object(1)\n",
      "memory usage: 99.4+ KB\n"
     ]
    }
   ],
   "source": [
    "combo_df.info()"
   ]
  },
  {
   "cell_type": "markdown",
   "metadata": {},
   "source": [
    "## Specific Drug OD dataframe"
   ]
  },
  {
   "cell_type": "code",
   "execution_count": 49,
   "metadata": {},
   "outputs": [],
   "source": [
    "od_drugs = od_data2.copy()"
   ]
  },
  {
   "cell_type": "code",
   "execution_count": 50,
   "metadata": {},
   "outputs": [
    {
     "name": "stdout",
     "output_type": "stream",
     "text": [
      "<class 'pandas.core.frame.DataFrame'>\n",
      "DatetimeIndex: 6080 entries, 2015-01-01 to 2018-04-01\n",
      "Data columns (total 4 columns):\n",
      " #   Column                         Non-Null Count  Dtype  \n",
      "---  ------                         --------------  -----  \n",
      " 0   State                          6080 non-null   object \n",
      " 1   Indicator                      6080 non-null   object \n",
      " 2   Data Value                     6080 non-null   float64\n",
      " 3   Percent Pending Investigation  6080 non-null   float64\n",
      "dtypes: float64(2), object(2)\n",
      "memory usage: 237.5+ KB\n"
     ]
    }
   ],
   "source": [
    "od_drugs = od_data2[(od_data2['Indicator'] != 'Number of Deaths') & (od_data2['Indicator'] != 'Number of Drug Overdose Deaths')]\n",
    "od_drugs.info()                                                                 "
   ]
  },
  {
   "cell_type": "code",
   "execution_count": 51,
   "metadata": {},
   "outputs": [],
   "source": [
    "od_drugs = od_drugs.rename(columns={'Data Value': \"Total Deaths\"})"
   ]
  },
  {
   "cell_type": "code",
   "execution_count": 52,
   "metadata": {},
   "outputs": [
    {
     "data": {
      "text/plain": [
       "Opioids (T40.0-T40.4,T40.6)                      760\n",
       "Methadone (T40.3)                                760\n",
       "Cocaine (T40.5)                                  760\n",
       "Percent with drugs specified                     760\n",
       "Synthetic opioids, excl. methadone (T40.4)       760\n",
       "Heroin (T40.1)                                   760\n",
       "Natural & semi-synthetic opioids (T40.2)         760\n",
       "Psychostimulants with abuse potential (T43.6)    760\n",
       "Name: Indicator, dtype: int64"
      ]
     },
     "execution_count": 52,
     "metadata": {},
     "output_type": "execute_result"
    }
   ],
   "source": [
    "od_drugs['Indicator'].value_counts()"
   ]
  },
  {
   "cell_type": "code",
   "execution_count": 53,
   "metadata": {},
   "outputs": [
    {
     "data": {
      "text/html": [
       "<div>\n",
       "<style scoped>\n",
       "    .dataframe tbody tr th:only-of-type {\n",
       "        vertical-align: middle;\n",
       "    }\n",
       "\n",
       "    .dataframe tbody tr th {\n",
       "        vertical-align: top;\n",
       "    }\n",
       "\n",
       "    .dataframe thead th {\n",
       "        text-align: right;\n",
       "    }\n",
       "</style>\n",
       "<table border=\"1\" class=\"dataframe\">\n",
       "  <thead>\n",
       "    <tr style=\"text-align: right;\">\n",
       "      <th></th>\n",
       "      <th>State</th>\n",
       "      <th>Indicator</th>\n",
       "      <th>Total Deaths</th>\n",
       "      <th>Percent Pending Investigation</th>\n",
       "    </tr>\n",
       "    <tr>\n",
       "      <th>Date</th>\n",
       "      <th></th>\n",
       "      <th></th>\n",
       "      <th></th>\n",
       "      <th></th>\n",
       "    </tr>\n",
       "  </thead>\n",
       "  <tbody>\n",
       "    <tr>\n",
       "      <th>2015-01-01</th>\n",
       "      <td>CT</td>\n",
       "      <td>Cocaine (T40.5)</td>\n",
       "      <td>118.0</td>\n",
       "      <td>0.009927</td>\n",
       "    </tr>\n",
       "    <tr>\n",
       "      <th>2015-02-01</th>\n",
       "      <td>CT</td>\n",
       "      <td>Cocaine (T40.5)</td>\n",
       "      <td>124.0</td>\n",
       "      <td>0.009885</td>\n",
       "    </tr>\n",
       "    <tr>\n",
       "      <th>2015-03-01</th>\n",
       "      <td>CT</td>\n",
       "      <td>Cocaine (T40.5)</td>\n",
       "      <td>124.0</td>\n",
       "      <td>0.009837</td>\n",
       "    </tr>\n",
       "    <tr>\n",
       "      <th>2015-04-01</th>\n",
       "      <td>CT</td>\n",
       "      <td>Cocaine (T40.5)</td>\n",
       "      <td>125.0</td>\n",
       "      <td>0.009858</td>\n",
       "    </tr>\n",
       "    <tr>\n",
       "      <th>2015-05-01</th>\n",
       "      <td>CT</td>\n",
       "      <td>Cocaine (T40.5)</td>\n",
       "      <td>124.0</td>\n",
       "      <td>0.013142</td>\n",
       "    </tr>\n",
       "  </tbody>\n",
       "</table>\n",
       "</div>"
      ],
      "text/plain": [
       "           State        Indicator  Total Deaths  Percent Pending Investigation\n",
       "Date                                                                          \n",
       "2015-01-01    CT  Cocaine (T40.5)         118.0                       0.009927\n",
       "2015-02-01    CT  Cocaine (T40.5)         124.0                       0.009885\n",
       "2015-03-01    CT  Cocaine (T40.5)         124.0                       0.009837\n",
       "2015-04-01    CT  Cocaine (T40.5)         125.0                       0.009858\n",
       "2015-05-01    CT  Cocaine (T40.5)         124.0                       0.013142"
      ]
     },
     "execution_count": 53,
     "metadata": {},
     "output_type": "execute_result"
    }
   ],
   "source": [
    "od_drugs.head()"
   ]
  },
  {
   "cell_type": "code",
   "execution_count": null,
   "metadata": {},
   "outputs": [],
   "source": []
  },
  {
   "cell_type": "markdown",
   "metadata": {},
   "source": [
    "## Visualizations"
   ]
  },
  {
   "cell_type": "code",
   "execution_count": 54,
   "metadata": {},
   "outputs": [
    {
     "data": {
      "image/png": "[encoded data removed]",
      "text/plain": [
       "<Figure size 1008x720 with 1 Axes>"
      ]
     },
     "metadata": {
      "needs_background": "light"
     },
     "output_type": "display_data"
    }
   ],
   "source": [
    "combo_df['OD Percentage of Total Deaths'].plot(figsize = (14,10))\n",
    "plt.show();"
   ]
  },
  {
   "cell_type": "code",
   "execution_count": 55,
   "metadata": {},
   "outputs": [
    {
     "data": {
      "image/png": "[encoded data removed]",
      "text/plain": [
       "<Figure size 720x432 with 1 Axes>"
      ]
     },
     "metadata": {
      "needs_background": "light"
     },
     "output_type": "display_data"
    }
   ],
   "source": [
    "# Filter data for 'PA' state\n",
    "pa_df = combo_df[combo_df['State'] == 'PA']\n",
    "\n",
    "# Create a line plot for 'OD Percentage of Total Deaths'\n",
    "plt.figure(figsize=(10, 6))\n",
    "plt.plot(pa_df.index, pa_df['OD Percentage of Total Deaths'])\n",
    "plt.xlabel('Date')\n",
    "plt.ylabel('OD Percentage of Total Deaths')\n",
    "plt.title('OD Percentage of Total Deaths in PA over Time')\n",
    "plt.grid(True)\n",
    "plt.show()"
   ]
  },
  {
   "cell_type": "code",
   "execution_count": 56,
   "metadata": {},
   "outputs": [
    {
     "data": {
      "image/png": "[encoded data removed]",
      "text/plain": [
       "<Figure size 720x432 with 1 Axes>"
      ]
     },
     "metadata": {
      "needs_background": "light"
     },
     "output_type": "display_data"
    }
   ],
   "source": [
    "# Filter data for 'NJ' state\n",
    "nj_df = combo_df[combo_df['State'] == 'NJ']\n",
    "\n",
    "# Create a line plot for 'OD Percentage of Total Deaths'\n",
    "plt.figure(figsize=(10, 6))\n",
    "plt.plot(nj_df.index, nj_df['OD Percentage of Total Deaths'])\n",
    "plt.xlabel('Date')\n",
    "plt.ylabel('OD Percentage of Total Deaths')\n",
    "plt.title('OD Percentage of Total Deaths in NJ over Time')\n",
    "plt.grid(True)\n",
    "plt.show()"
   ]
  },
  {
   "cell_type": "code",
   "execution_count": 57,
   "metadata": {},
   "outputs": [
    {
     "data": {
      "image/png": "[encoded data removed]",
      "text/plain": [
       "<Figure size 720x432 with 1 Axes>"
      ]
     },
     "metadata": {
      "needs_background": "light"
     },
     "output_type": "display_data"
    }
   ],
   "source": [
    "# Filter data for 'NY' state\n",
    "ny_df = combo_df[combo_df['State'] == 'NY']\n",
    "\n",
    "# Create a line plot for 'OD Percentage of Total Deaths'\n",
    "plt.figure(figsize=(10, 6))\n",
    "plt.plot(ny_df.index, ny_df['OD Percentage of Total Deaths'])\n",
    "plt.xlabel('Date')\n",
    "plt.ylabel('OD Percentage of Total Deaths')\n",
    "plt.title('OD Percentage of Total Deaths in NY over Time')\n",
    "plt.grid(True)\n",
    "plt.show()"
   ]
  },
  {
   "cell_type": "markdown",
   "metadata": {},
   "source": [
    "## I have no idea what 'State' or territory is represented by 'US' and 'YC'"
   ]
  },
  {
   "cell_type": "code",
   "execution_count": 58,
   "metadata": {},
   "outputs": [
    {
     "name": "stdout",
     "output_type": "stream",
     "text": [
      "           State  Total Deaths  Percent Pending Investigation_x  \\\n",
      "Date                                                              \n",
      "2017-06-01    DC          6328                         0.000000   \n",
      "2017-07-01    DC          6314                         0.000000   \n",
      "2017-04-01    DC          6241                         0.000000   \n",
      "2017-05-01    DC          6287                         0.000000   \n",
      "2017-08-01    DC          6296                         0.015883   \n",
      "\n",
      "            Overdose Deaths  OD Percentage of Total Deaths  \n",
      "Date                                                        \n",
      "2017-06-01              384                            6.1  \n",
      "2017-07-01              383                            6.1  \n",
      "2017-04-01              375                            6.0  \n",
      "2017-05-01              380                            6.0  \n",
      "2017-08-01              377                            6.0  \n"
     ]
    }
   ],
   "source": [
    "# Find top 5 values in 'OD Percentage of Total Deaths' column\n",
    "top_5_values = combo_df.nlargest(5, 'OD Percentage of Total Deaths')\n",
    "\n",
    "# Display the top 5 values\n",
    "print(top_5_values)"
   ]
  },
  {
   "cell_type": "code",
   "execution_count": 59,
   "metadata": {},
   "outputs": [
    {
     "data": {
      "image/png": "[encoded data removed]",
      "text/plain": [
       "<Figure size 720x432 with 1 Axes>"
      ]
     },
     "metadata": {
      "needs_background": "light"
     },
     "output_type": "display_data"
    }
   ],
   "source": [
    "# Filter data for 'DC' state\n",
    "dc_df = combo_df[combo_df['State'] == 'DC']\n",
    "\n",
    "# Create a line plot for 'OD Percentage of Total Deaths'\n",
    "plt.figure(figsize=(10, 6))\n",
    "plt.plot(dc_df.index, dc_df['OD Percentage of Total Deaths'])\n",
    "plt.xlabel('Date')\n",
    "plt.ylabel('OD Percentage of Total Deaths')\n",
    "plt.title('OD Percentage of Total Deaths in DC over Time')\n",
    "plt.grid(True)\n",
    "plt.show()"
   ]
  },
  {
   "cell_type": "code",
   "execution_count": 60,
   "metadata": {},
   "outputs": [
    {
     "data": {
      "image/png": "[encoded data removed]",
      "text/plain": [
       "<Figure size 720x432 with 1 Axes>"
      ]
     },
     "metadata": {
      "needs_background": "light"
     },
     "output_type": "display_data"
    }
   ],
   "source": [
    "# Filter data for 'DC' state\n",
    "dc_df = combo_df[combo_df['State'] == 'DC']\n",
    "\n",
    "# Create a line plot for 'OD Percentage of Total Deaths'\n",
    "plt.figure(figsize=(10, 6))\n",
    "plt.plot(dc_df.index, dc_df['Total Deaths'], dc_df['Overdose Deaths'])\n",
    "plt.xlabel('Date')\n",
    "plt.ylabel('OD Percentage of Total Deaths')\n",
    "plt.title('OD Percentage of Total Deaths in DC over Time')\n",
    "plt.grid(True)\n",
    "plt.show()"
   ]
  },
  {
   "cell_type": "code",
   "execution_count": 61,
   "metadata": {},
   "outputs": [
    {
     "data": {
      "text/html": [
       "<div>\n",
       "<style scoped>\n",
       "    .dataframe tbody tr th:only-of-type {\n",
       "        vertical-align: middle;\n",
       "    }\n",
       "\n",
       "    .dataframe tbody tr th {\n",
       "        vertical-align: top;\n",
       "    }\n",
       "\n",
       "    .dataframe thead th {\n",
       "        text-align: right;\n",
       "    }\n",
       "</style>\n",
       "<table border=\"1\" class=\"dataframe\">\n",
       "  <thead>\n",
       "    <tr style=\"text-align: right;\">\n",
       "      <th></th>\n",
       "      <th>Total Deaths</th>\n",
       "      <th>Percent Pending Investigation_x</th>\n",
       "      <th>Overdose Deaths</th>\n",
       "      <th>OD Percentage of Total Deaths</th>\n",
       "    </tr>\n",
       "  </thead>\n",
       "  <tbody>\n",
       "    <tr>\n",
       "      <th>Total Deaths</th>\n",
       "      <td>1.000000</td>\n",
       "      <td>0.051238</td>\n",
       "      <td>0.990751</td>\n",
       "      <td>-0.008546</td>\n",
       "    </tr>\n",
       "    <tr>\n",
       "      <th>Percent Pending Investigation_x</th>\n",
       "      <td>0.051238</td>\n",
       "      <td>1.000000</td>\n",
       "      <td>0.054464</td>\n",
       "      <td>0.147684</td>\n",
       "    </tr>\n",
       "    <tr>\n",
       "      <th>Overdose Deaths</th>\n",
       "      <td>0.990751</td>\n",
       "      <td>0.054464</td>\n",
       "      <td>1.000000</td>\n",
       "      <td>0.036555</td>\n",
       "    </tr>\n",
       "    <tr>\n",
       "      <th>OD Percentage of Total Deaths</th>\n",
       "      <td>-0.008546</td>\n",
       "      <td>0.147684</td>\n",
       "      <td>0.036555</td>\n",
       "      <td>1.000000</td>\n",
       "    </tr>\n",
       "  </tbody>\n",
       "</table>\n",
       "</div>"
      ],
      "text/plain": [
       "                                 Total Deaths  \\\n",
       "Total Deaths                         1.000000   \n",
       "Percent Pending Investigation_x      0.051238   \n",
       "Overdose Deaths                      0.990751   \n",
       "OD Percentage of Total Deaths       -0.008546   \n",
       "\n",
       "                                 Percent Pending Investigation_x  \\\n",
       "Total Deaths                                            0.051238   \n",
       "Percent Pending Investigation_x                         1.000000   \n",
       "Overdose Deaths                                         0.054464   \n",
       "OD Percentage of Total Deaths                           0.147684   \n",
       "\n",
       "                                 Overdose Deaths  \\\n",
       "Total Deaths                            0.990751   \n",
       "Percent Pending Investigation_x         0.054464   \n",
       "Overdose Deaths                         1.000000   \n",
       "OD Percentage of Total Deaths           0.036555   \n",
       "\n",
       "                                 OD Percentage of Total Deaths  \n",
       "Total Deaths                                         -0.008546  \n",
       "Percent Pending Investigation_x                       0.147684  \n",
       "Overdose Deaths                                       0.036555  \n",
       "OD Percentage of Total Deaths                         1.000000  "
      ]
     },
     "execution_count": 61,
     "metadata": {},
     "output_type": "execute_result"
    }
   ],
   "source": [
    "combo_df.corr()"
   ]
  },
  {
   "cell_type": "code",
   "execution_count": 62,
   "metadata": {},
   "outputs": [
    {
     "name": "stdout",
     "output_type": "stream",
     "text": [
      "<class 'pandas.core.frame.DataFrame'>\n",
      "DatetimeIndex: 2120 entries, 2015-01-01 to 2018-04-01\n",
      "Data columns (total 5 columns):\n",
      " #   Column                           Non-Null Count  Dtype  \n",
      "---  ------                           --------------  -----  \n",
      " 0   State                            2120 non-null   object \n",
      " 1   Total Deaths                     2120 non-null   int64  \n",
      " 2   Percent Pending Investigation_x  2120 non-null   float64\n",
      " 3   Overdose Deaths                  2120 non-null   int64  \n",
      " 4   OD Percentage of Total Deaths    2120 non-null   float64\n",
      "dtypes: float64(2), int64(2), object(1)\n",
      "memory usage: 99.4+ KB\n"
     ]
    }
   ],
   "source": [
    "combo_df.info()"
   ]
  },
  {
   "cell_type": "markdown",
   "metadata": {},
   "source": [
    "## Models"
   ]
  },
  {
   "cell_type": "code",
   "execution_count": 63,
   "metadata": {},
   "outputs": [],
   "source": [
    "import statsmodels.api as sm\n",
    "from statsmodels.tsa.arima.model import ARIMA\n",
    "from statsmodels.stats.diagnostic import acorr_ljungbox\n",
    "from statsmodels.stats.stattools import durbin_watson\n"
   ]
  },
  {
   "cell_type": "code",
   "execution_count": 64,
   "metadata": {},
   "outputs": [
    {
     "data": {
      "text/html": [
       "<div>\n",
       "<style scoped>\n",
       "    .dataframe tbody tr th:only-of-type {\n",
       "        vertical-align: middle;\n",
       "    }\n",
       "\n",
       "    .dataframe tbody tr th {\n",
       "        vertical-align: top;\n",
       "    }\n",
       "\n",
       "    .dataframe thead th {\n",
       "        text-align: right;\n",
       "    }\n",
       "</style>\n",
       "<table border=\"1\" class=\"dataframe\">\n",
       "  <thead>\n",
       "    <tr style=\"text-align: right;\">\n",
       "      <th></th>\n",
       "      <th>State</th>\n",
       "      <th>Total Deaths</th>\n",
       "      <th>Percent Pending Investigation_x</th>\n",
       "      <th>Overdose Deaths</th>\n",
       "      <th>OD Percentage of Total Deaths</th>\n",
       "    </tr>\n",
       "    <tr>\n",
       "      <th>Date</th>\n",
       "      <th></th>\n",
       "      <th></th>\n",
       "      <th></th>\n",
       "      <th></th>\n",
       "      <th></th>\n",
       "    </tr>\n",
       "  </thead>\n",
       "  <tbody>\n",
       "    <tr>\n",
       "      <th>2015-01-01</th>\n",
       "      <td>AK</td>\n",
       "      <td>4034</td>\n",
       "      <td>0.0</td>\n",
       "      <td>126</td>\n",
       "      <td>3.1</td>\n",
       "    </tr>\n",
       "    <tr>\n",
       "      <th>2015-02-01</th>\n",
       "      <td>AK</td>\n",
       "      <td>4084</td>\n",
       "      <td>0.0</td>\n",
       "      <td>127</td>\n",
       "      <td>3.1</td>\n",
       "    </tr>\n",
       "  </tbody>\n",
       "</table>\n",
       "</div>"
      ],
      "text/plain": [
       "           State  Total Deaths  Percent Pending Investigation_x  \\\n",
       "Date                                                              \n",
       "2015-01-01    AK          4034                              0.0   \n",
       "2015-02-01    AK          4084                              0.0   \n",
       "\n",
       "            Overdose Deaths  OD Percentage of Total Deaths  \n",
       "Date                                                        \n",
       "2015-01-01              126                            3.1  \n",
       "2015-02-01              127                            3.1  "
      ]
     },
     "execution_count": 64,
     "metadata": {},
     "output_type": "execute_result"
    }
   ],
   "source": [
    "combo_df.head(2)"
   ]
  },
  {
   "cell_type": "code",
   "execution_count": null,
   "metadata": {},
   "outputs": [],
   "source": [
    "from statsmodels.graphics.tsaplots import plot_pacf\n",
    "from statsmodels.graphics.tsaplots import plot_acf\n",
    "\n",
    "yc_df = combo_df[combo_df['State'] == 'CT']\n",
    "\n",
    "fig, ax = plt.subplots(figsize=(16,3))\n",
    "plot_acf(yc_df.drop(['State'], axis=1), ax=ax, lags=40);\n",
    "\n",
    "fig, ax = plt.subplots(figsize=(16,3))\n",
    "plot_pacf(yc_df.drop(['State'], axis=1), ax=ax, lags=40);"
   ]
  },
  {
   "cell_type": "code",
   "execution_count": 71,
   "metadata": {},
   "outputs": [
    {
     "data": {
      "text/plain": [
       "(40, 5)"
      ]
     },
     "execution_count": 71,
     "metadata": {},
     "output_type": "execute_result"
    }
   ],
   "source": [
    "ct_df.shape"
   ]
  },
  {
   "cell_type": "code",
   "execution_count": null,
   "metadata": {},
   "outputs": [],
   "source": []
  },
  {
   "cell_type": "code",
   "execution_count": 72,
   "metadata": {},
   "outputs": [
    {
     "name": "stdout",
     "output_type": "stream",
     "text": [
      "<statsmodels.tsa.arima.model.ARIMAResultsWrapper object at 0x7fb931137be0>\n"
     ]
    },
    {
     "name": "stderr",
     "output_type": "stream",
     "text": [
      "/Users/vincentamadio3/opt/anaconda3/envs/learn-env/lib/python3.8/site-packages/statsmodels/tsa/base/tsa_model.py:524: ValueWarning: No frequency information was provided, so inferred frequency MS will be used.\n",
      "  warnings.warn('No frequency information was'\n",
      "/Users/vincentamadio3/opt/anaconda3/envs/learn-env/lib/python3.8/site-packages/statsmodels/tsa/base/tsa_model.py:524: ValueWarning: No frequency information was provided, so inferred frequency MS will be used.\n",
      "  warnings.warn('No frequency information was'\n",
      "/Users/vincentamadio3/opt/anaconda3/envs/learn-env/lib/python3.8/site-packages/statsmodels/tsa/base/tsa_model.py:524: ValueWarning: No frequency information was provided, so inferred frequency MS will be used.\n",
      "  warnings.warn('No frequency information was'\n",
      "/Users/vincentamadio3/opt/anaconda3/envs/learn-env/lib/python3.8/site-packages/statsmodels/tsa/statespace/sarimax.py:965: UserWarning: Non-stationary starting autoregressive parameters found. Using zeros as starting parameters.\n",
      "  warn('Non-stationary starting autoregressive parameters'\n"
     ]
    }
   ],
   "source": [
    "ct_df = combo_df[combo_df['State'] == 'CT']\n",
    "\n",
    "train = ct_df.iloc[:30]\n",
    "test = ct_df.iloc[30:]\n",
    "\n",
    "model = ARIMA(train['Total Deaths'], order=(1, 0, 0))\n",
    "model_fit = model.fit()\n",
    "print(model_fit)"
   ]
  },
  {
   "cell_type": "code",
   "execution_count": 73,
   "metadata": {},
   "outputs": [
    {
     "data": {
      "text/html": [
       "<table class=\"simpletable\">\n",
       "<caption>SARIMAX Results</caption>\n",
       "<tr>\n",
       "  <th>Dep. Variable:</th>     <td>Total Deaths</td>   <th>  No. Observations:  </th>    <td>30</td>   \n",
       "</tr>\n",
       "<tr>\n",
       "  <th>Model:</th>            <td>ARIMA(1, 0, 0)</td>  <th>  Log Likelihood     </th> <td>-188.120</td>\n",
       "</tr>\n",
       "<tr>\n",
       "  <th>Date:</th>            <td>Mon, 10 Apr 2023</td> <th>  AIC                </th>  <td>382.239</td>\n",
       "</tr>\n",
       "<tr>\n",
       "  <th>Time:</th>                <td>00:09:11</td>     <th>  BIC                </th>  <td>386.443</td>\n",
       "</tr>\n",
       "<tr>\n",
       "  <th>Sample:</th>             <td>01-01-2015</td>    <th>  HQIC               </th>  <td>383.584</td>\n",
       "</tr>\n",
       "<tr>\n",
       "  <th></th>                   <td>- 06-01-2017</td>   <th>                     </th>     <td> </td>   \n",
       "</tr>\n",
       "<tr>\n",
       "  <th>Covariance Type:</th>        <td>opg</td>       <th>                     </th>     <td> </td>   \n",
       "</tr>\n",
       "</table>\n",
       "<table class=\"simpletable\">\n",
       "<tr>\n",
       "     <td></td>       <th>coef</th>     <th>std err</th>      <th>z</th>      <th>P>|z|</th>  <th>[0.025</th>    <th>0.975]</th>  \n",
       "</tr>\n",
       "<tr>\n",
       "  <th>const</th>  <td> 3.065e+04</td> <td>  370.829</td> <td>   82.650</td> <td> 0.000</td> <td> 2.99e+04</td> <td> 3.14e+04</td>\n",
       "</tr>\n",
       "<tr>\n",
       "  <th>ar.L1</th>  <td>    0.9603</td> <td>    0.086</td> <td>   11.204</td> <td> 0.000</td> <td>    0.792</td> <td>    1.128</td>\n",
       "</tr>\n",
       "<tr>\n",
       "  <th>sigma2</th> <td> 1.504e+04</td> <td> 4190.895</td> <td>    3.588</td> <td> 0.000</td> <td> 6824.269</td> <td> 2.33e+04</td>\n",
       "</tr>\n",
       "</table>\n",
       "<table class=\"simpletable\">\n",
       "<tr>\n",
       "  <th>Ljung-Box (L1) (Q):</th>     <td>7.11</td> <th>  Jarque-Bera (JB):  </th> <td>0.15</td>\n",
       "</tr>\n",
       "<tr>\n",
       "  <th>Prob(Q):</th>                <td>0.01</td> <th>  Prob(JB):          </th> <td>0.93</td>\n",
       "</tr>\n",
       "<tr>\n",
       "  <th>Heteroskedasticity (H):</th> <td>3.38</td> <th>  Skew:              </th> <td>0.17</td>\n",
       "</tr>\n",
       "<tr>\n",
       "  <th>Prob(H) (two-sided):</th>    <td>0.07</td> <th>  Kurtosis:          </th> <td>3.02</td>\n",
       "</tr>\n",
       "</table><br/><br/>Warnings:<br/>[1] Covariance matrix calculated using the outer product of gradients (complex-step)."
      ],
      "text/plain": [
       "<class 'statsmodels.iolib.summary.Summary'>\n",
       "\"\"\"\n",
       "                               SARIMAX Results                                \n",
       "==============================================================================\n",
       "Dep. Variable:           Total Deaths   No. Observations:                   30\n",
       "Model:                 ARIMA(1, 0, 0)   Log Likelihood                -188.120\n",
       "Date:                Mon, 10 Apr 2023   AIC                            382.239\n",
       "Time:                        00:09:11   BIC                            386.443\n",
       "Sample:                    01-01-2015   HQIC                           383.584\n",
       "                         - 06-01-2017                                         \n",
       "Covariance Type:                  opg                                         \n",
       "==============================================================================\n",
       "                 coef    std err          z      P>|z|      [0.025      0.975]\n",
       "------------------------------------------------------------------------------\n",
       "const       3.065e+04    370.829     82.650      0.000    2.99e+04    3.14e+04\n",
       "ar.L1          0.9603      0.086     11.204      0.000       0.792       1.128\n",
       "sigma2      1.504e+04   4190.895      3.588      0.000    6824.269    2.33e+04\n",
       "===================================================================================\n",
       "Ljung-Box (L1) (Q):                   7.11   Jarque-Bera (JB):                 0.15\n",
       "Prob(Q):                              0.01   Prob(JB):                         0.93\n",
       "Heteroskedasticity (H):               3.38   Skew:                             0.17\n",
       "Prob(H) (two-sided):                  0.07   Kurtosis:                         3.02\n",
       "===================================================================================\n",
       "\n",
       "Warnings:\n",
       "[1] Covariance matrix calculated using the outer product of gradients (complex-step).\n",
       "\"\"\""
      ]
     },
     "execution_count": 73,
     "metadata": {},
     "output_type": "execute_result"
    }
   ],
   "source": [
    "#model_fit.predict()\n",
    "model_fit.summary()"
   ]
  },
  {
   "cell_type": "code",
   "execution_count": 74,
   "metadata": {},
   "outputs": [],
   "source": [
    "output = model_fit.forecast()"
   ]
  },
  {
   "cell_type": "code",
   "execution_count": 75,
   "metadata": {},
   "outputs": [
    {
     "name": "stdout",
     "output_type": "stream",
     "text": [
      "2017-07-01    31226.118252\n",
      "Freq: MS, dtype: float64\n"
     ]
    }
   ],
   "source": [
    "print(output)"
   ]
  },
  {
   "cell_type": "code",
   "execution_count": 76,
   "metadata": {},
   "outputs": [
    {
     "data": {
      "text/plain": [
       "State                                     CT\n",
       "Total Deaths                           31347\n",
       "Percent Pending Investigation_x    0.0223307\n",
       "Overdose Deaths                         1074\n",
       "OD Percentage of Total Deaths            3.4\n",
       "Name: 2017-07-01 00:00:00, dtype: object"
      ]
     },
     "execution_count": 76,
     "metadata": {},
     "output_type": "execute_result"
    }
   ],
   "source": [
    "ct_df.iloc[30]"
   ]
  },
  {
   "cell_type": "code",
   "execution_count": 77,
   "metadata": {},
   "outputs": [
    {
     "data": {
      "image/png": "[encoded data removed]",
      "text/plain": [
       "<Figure size 432x288 with 1 Axes>"
      ]
     },
     "metadata": {
      "needs_background": "light"
     },
     "output_type": "display_data"
    }
   ],
   "source": [
    "residuals = pd.DataFrame(model_fit.resid)\n",
    "residuals.plot()\n",
    "plt.show()"
   ]
  },
  {
   "cell_type": "code",
   "execution_count": 84,
   "metadata": {},
   "outputs": [
    {
     "name": "stdout",
     "output_type": "stream",
     "text": [
      "predicted=31301.373670, expected=31347.000000\n",
      "predicted=31425.026638, expected=31376.000000\n",
      "predicted=31338.974428, expected=31545.000000\n",
      "predicted=31659.343703, expected=31513.000000\n",
      "predicted=31537.723111, expected=31427.000000\n",
      "predicted=31321.479581, expected=31545.000000\n",
      "predicted=31636.531253, expected=31747.000000\n",
      "predicted=31854.892613, expected=31570.000000\n",
      "predicted=31450.972425, expected=31528.000000\n",
      "predicted=31524.488529, expected=31552.000000\n",
      "Test RMSE: 151.864\n"
     ]
    },
    {
     "data": {
      "image/png": "[encoded data removed]",
      "text/plain": [
       "<Figure size 864x576 with 1 Axes>"
      ]
     },
     "metadata": {
      "needs_background": "light"
     },
     "output_type": "display_data"
    }
   ],
   "source": [
    "from math import sqrt\n",
    "from sklearn.metrics import mean_squared_error\n",
    "import matplotlib.pyplot as plt\n",
    "\n",
    "\n",
    "fig = plt.figure(figsize=(12, 8)) \n",
    "\n",
    "predictions = []\n",
    "\n",
    "# Create a history list to keep track of the training data\n",
    "history = train['Total Deaths'].tolist()\n",
    "\n",
    "# Walk-forward validation\n",
    "for t in range(len(test)):\n",
    "    # Fit the ARIMA model to the history data\n",
    "    model = ARIMA(history, order=(5,1,0))\n",
    "    model_fit = model.fit()\n",
    "    \n",
    "    # Forecast the next value\n",
    "    output = model_fit.forecast()\n",
    "    yhat = output[0]\n",
    "    \n",
    "    # Append the predicted value to the list of predictions\n",
    "    predictions.append(yhat)\n",
    "    \n",
    "    # Get the observed value from the test set\n",
    "    obs = test['Total Deaths'].iloc[t]\n",
    "    \n",
    "    # Append the observed value to the history for the next iteration\n",
    "    history.append(obs)\n",
    "    \n",
    "    # Print the predicted and expected values\n",
    "    print('predicted=%f, expected=%f' % (yhat, obs))\n",
    "\n",
    "# Evaluate the forecasts\n",
    "rmse = sqrt(mean_squared_error(test['Total Deaths'], predictions))\n",
    "print('Test RMSE: %.3f' % rmse)\n",
    "\n",
    "# Plot forecasts against actual outcomes\n",
    "plt.plot(test.index, test['Total Deaths'])\n",
    "plt.plot(test.index, predictions, color='red')\n",
    "plt.xlabel('Date')\n",
    "plt.ylabel('Total Deaths')\n",
    "plt.legend(['Actual', 'Predicted'])\n",
    "plt.show()"
   ]
  },
  {
   "cell_type": "code",
   "execution_count": null,
   "metadata": {},
   "outputs": [],
   "source": [
    "## Compute autocorrelation and partial autocorrelation for 'Total Deaths' in combo_df\n",
    "#value_combo_df = combo_df['Total Deaths'] # Extract 'Total Deaths' values for autocorrelation analysis\n",
    "#acf_combo_df = sm.tsa.stattools.acf(value_combo_df, nlags=20)\n",
    "#pacf_combo_df = sm.tsa.stattools.pacf(value_combo_df, nlags=20)\n",
    "\n",
    "\n",
    "## Perform Ljung-Box test for autocorrelation on combo_df\n",
    "#lb_test_stat_combo_df, lb_p_value_combo_df = acorr_ljungbox(value_combo_df, lags=20)\n",
    "#print(\"Ljung-Box Test Statistic (combo_df):\", lb_test_stat_combo_df)\n",
    "#print(\"Ljung-Box Test p-value (combo_df):\", lb_p_value_combo_df)\n",
    "\n",
    "## Perform Durbin-Watson test for partial autocorrelation on combo_df\n",
    "#dw_test_stat_combo_df, dw_p_value_combo_df = durbin_watson(value_combo_df)\n",
    "#print(\"Durbin-Watson Test Statistic (combo_df):\", dw_test_stat_combo_df)\n",
    "#print(\"Durbin-Watson Test p-value (combo_df):\", dw_p_value_combo_df)\n",
    "\n"
   ]
  },
  {
   "cell_type": "code",
   "execution_count": null,
   "metadata": {},
   "outputs": [],
   "source": [
    "#combo_df = combo_df.sort_index(ascending=True)"
   ]
  },
  {
   "cell_type": "code",
   "execution_count": null,
   "metadata": {},
   "outputs": [],
   "source": [
    "## Plot ACF and PACF for Total Deaths in combo_df\n",
    "#plot_acf(combo_df['Total Deaths'])\n",
    "#plt.title('Autocorrelation Function (ACF) for Total Deaths')\n",
    "#plt.show()\n",
    "\n",
    "#plot_pacf(combo_df['Total Deaths'])\n",
    "#plt.title('Partial Autocorrelation Function (PACF) for Total Deaths')\n",
    "#plt.show()\n",
    "\n",
    "## Plot ACF and PACF for Deaths in od_drugs with Indicator 'Cocaine (T40.5)'\n",
    "#plot_acf(od_drugs[od_drugs['Indicator'] == 'Cocaine (T40.5)']['Total Deaths'])\n",
    "#plt.title('Autocorrelation Function (ACF) for Deaths with Indicator Cocaine (T40.5)')\n",
    "#plt.show()\n",
    "\n",
    "#plot_pacf(od_drugs[od_drugs['Indicator'] == 'Cocaine (T40.5)']['Total Deaths'])\n",
    "#plt.title('Partial Autocorrelation Function (PACF) for Deaths with Indicator Cocaine (T40.5)')\n",
    "#plt.show()"
   ]
  },
  {
   "cell_type": "code",
   "execution_count": 65,
   "metadata": {},
   "outputs": [
    {
     "name": "stdout",
     "output_type": "stream",
     "text": [
      "<statsmodels.tsa.arima.model.ARIMAResultsWrapper object at 0x7fb922ef2ee0>\n"
     ]
    },
    {
     "name": "stderr",
     "output_type": "stream",
     "text": [
      "/Users/vincentamadio3/opt/anaconda3/envs/learn-env/lib/python3.8/site-packages/statsmodels/tsa/base/tsa_model.py:581: ValueWarning: A date index has been provided, but it has no associated frequency information and so will be ignored when e.g. forecasting.\n",
      "  warnings.warn('A date index has been provided, but it has no'\n",
      "/Users/vincentamadio3/opt/anaconda3/envs/learn-env/lib/python3.8/site-packages/statsmodels/tsa/base/tsa_model.py:585: ValueWarning: A date index has been provided, but it is not monotonic and so will be ignored when e.g. forecasting.\n",
      "  warnings.warn('A date index has been provided, but it is not'\n",
      "/Users/vincentamadio3/opt/anaconda3/envs/learn-env/lib/python3.8/site-packages/statsmodels/tsa/base/tsa_model.py:581: ValueWarning: A date index has been provided, but it has no associated frequency information and so will be ignored when e.g. forecasting.\n",
      "  warnings.warn('A date index has been provided, but it has no'\n",
      "/Users/vincentamadio3/opt/anaconda3/envs/learn-env/lib/python3.8/site-packages/statsmodels/tsa/base/tsa_model.py:585: ValueWarning: A date index has been provided, but it is not monotonic and so will be ignored when e.g. forecasting.\n",
      "  warnings.warn('A date index has been provided, but it is not'\n",
      "/Users/vincentamadio3/opt/anaconda3/envs/learn-env/lib/python3.8/site-packages/statsmodels/tsa/base/tsa_model.py:581: ValueWarning: A date index has been provided, but it has no associated frequency information and so will be ignored when e.g. forecasting.\n",
      "  warnings.warn('A date index has been provided, but it has no'\n",
      "/Users/vincentamadio3/opt/anaconda3/envs/learn-env/lib/python3.8/site-packages/statsmodels/tsa/base/tsa_model.py:585: ValueWarning: A date index has been provided, but it is not monotonic and so will be ignored when e.g. forecasting.\n",
      "  warnings.warn('A date index has been provided, but it is not'\n"
     ]
    }
   ],
   "source": [
    "# Create and fit ARIMA model using the chosen parameters\n",
    "model = ARIMA(combo_df['Total Deaths'], order=(1, 0, 0))\n",
    "model_fit = model.fit()\n",
    "print(model_fit)"
   ]
  },
  {
   "cell_type": "code",
   "execution_count": null,
   "metadata": {},
   "outputs": [],
   "source": [
    "model_fit.predict()"
   ]
  },
  {
   "cell_type": "markdown",
   "metadata": {},
   "source": [
    "## Conclusion"
   ]
  },
  {
   "cell_type": "code",
   "execution_count": null,
   "metadata": {},
   "outputs": [],
   "source": []
  }
 ],
 "metadata": {
  "kernelspec": {
   "display_name": "Python (learn-env)",
   "language": "python",
   "name": "learn-env"
  },
  "language_info": {
   "codemirror_mode": {
    "name": "ipython",
    "version": 3
   },
   "file_extension": ".py",
   "mimetype": "text/x-python",
   "name": "python",
   "nbconvert_exporter": "python",
   "pygments_lexer": "ipython3",
   "version": "3.8.5"
  }
 },
 "nbformat": 4,
 "nbformat_minor": 4
}
